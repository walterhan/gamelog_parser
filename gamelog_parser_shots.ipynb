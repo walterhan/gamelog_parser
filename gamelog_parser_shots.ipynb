{
 "cells": [
  {
   "cell_type": "markdown",
   "metadata": {},
   "source": [
    "<h1>Goal of the gamelog parser (player shots and attempts)</h1>\n",
    "\n",
    "Download, prepare, and wrangle data into a format suitable for analyzing player shot attempts. In particular, the analysis I have in mind is to do some analysis on shot selection and frequency - however, the final data frame output will be contain any shot attempt data suitable for general analysis based off of shots (rebounds, assists, etc)\n",
    "\n",
    "The data will include, along with basic shot information:\n",
    "\n",
    "* Who rebounded the shot (if applicable)\n",
    "* Who assisted the shot (if applicable)\n",
    "* Fouls on shot attempts, and FTA/FTM stats\n",
    "\n",
    "One last note - I made the decision to not include technical free throws here, as I don't believe they're directly related to player shot frequency in terms of strategy/player behavior."
   ]
  },
  {
   "cell_type": "code",
   "execution_count": 460,
   "metadata": {
    "collapsed": true
   },
   "outputs": [],
   "source": [
    "from bs4 import BeautifulSoup\n",
    "import urllib2\n",
    "import pandas as pd\n",
    "import numpy as np\n",
    "import re"
   ]
  },
  {
   "cell_type": "code",
   "execution_count": 2,
   "metadata": {
    "collapsed": true
   },
   "outputs": [],
   "source": [
    "test_url = 'http://www.basketball-reference.com/boxscores/pbp/201411230OKC.html'"
   ]
  },
  {
   "cell_type": "code",
   "execution_count": 62,
   "metadata": {
    "collapsed": true
   },
   "outputs": [],
   "source": [
    "# Output is a dataframe for play by play data\n",
    "def play_by_play(url):\n",
    "    from bs4 import BeautifulSoup\n",
    "    import urllib2\n",
    "    import pandas as pd\n",
    "    import numpy as np\n",
    "    response = urllib2.urlopen(url)\n",
    "    html = response.read()\n",
    "    soup = BeautifulSoup(html)\n",
    "    pbp = soup.find(id='page_content').find('table', attrs={'class': 'no_highlight stats_table'})\n",
    "    \n",
    "    empty = u'\\xa0'\n",
    "\n",
    "    quarter=0\n",
    "    play_by_play = []\n",
    "    for row in pbp.find_all('tr'):\n",
    "        tds = row.find_all('td')\n",
    "        # Get number of td to determine what the row is\n",
    "        if len(tds) == 6:\n",
    "            play_by_play.append( {\n",
    "                    'quarter': quarter,\n",
    "                    'time': tds[0].text,\n",
    "                    'away_team_action': tds[1] if tds[1].text != empty else np.nan,\n",
    "                    'away_team_score_change': tds[2].text,\n",
    "                    'score': tds[3].text,\n",
    "                    'home_team_score_change': tds[4].text,\n",
    "                    'home_team_action': tds[5] if tds[5].text != empty else np.nan,\n",
    "                })\n",
    "        elif len(tds) == 1:\n",
    "            # Is a jump ball\n",
    "            # ignore for now\n",
    "            print \"Jump ball! Ignoring for now\"\n",
    "        elif len(row.find_all('th')) == 1:\n",
    "            # New quarter - add to quarter - crude check for now, come back to this\n",
    "            quarter += 1 if 'Quarter' in row.th.text else 0\n",
    "\n",
    "    return pd.DataFrame(play_by_play).replace(u'\\xa0', np.nan)\n"
   ]
  },
  {
   "cell_type": "code",
   "execution_count": 412,
   "metadata": {
    "collapsed": false
   },
   "outputs": [],
   "source": [
    "df = play_by_play(test_url)"
   ]
  },
  {
   "cell_type": "code",
   "execution_count": null,
   "metadata": {
    "collapsed": false
   },
   "outputs": [],
   "source": []
  },
  {
   "cell_type": "code",
   "execution_count": 413,
   "metadata": {
    "collapsed": false
   },
   "outputs": [],
   "source": [
    "# work on changing this to a more workable format\n",
    "# Coalesce away/home team action to 2 columns (action text and home boolean)\n",
    "# Note - keep action as html so we can work on it further\n",
    "df['action_html'] = df['away_team_action'].fillna(df['home_team_action'])\n",
    "df['is_home'] = pd.isnull(df['home_team_action']) == False"
   ]
  },
  {
   "cell_type": "code",
   "execution_count": 414,
   "metadata": {
    "collapsed": false
   },
   "outputs": [],
   "source": [
    "# Get gametime from the \"time\" column\n",
    "# Do this by converting to a timedelta64 column, and then subtract from 12 min * (quarter-1)\n",
    "# To convert to timedelta, string needs to be in format hh:mm:ss\n",
    "# Prep the time column and do some string manipulation\n",
    "\n",
    "df['time'] = df['time'].str.replace('\\.0', '')\n",
    "df.loc[ df[df['time'].str.len()==5].index, 'time'] = '00:' + df['time']\n",
    "df.loc[ df[df['time'].str.len()==4].index, 'time'] = '00:0' + df['time']\n",
    "df['time'] = df['time'].apply(lambda x: pd.Timedelta(x.encode('utf-8')))\n",
    "\n",
    "df['gametime'] = (df['quarter']-1) * 12 * np.timedelta64(1, 'm') + (12*np.timedelta64(1, 'm') - df['time'])"
   ]
  },
  {
   "cell_type": "code",
   "execution_count": 415,
   "metadata": {
    "collapsed": false
   },
   "outputs": [],
   "source": [
    "# Split out score to home/away score columns\n",
    "df['home_score'] = df['score'].str.replace('-.*', '')\n",
    "df['away_score'] = df['score'].str.replace('.*-', '')"
   ]
  },
  {
   "cell_type": "markdown",
   "metadata": {},
   "source": [
    "<h2> A few notes </h2>\n",
    "\n",
    "\n",
    "Now we want to split out/wrangle the data into a dataframe where each row represents a shot attempt.\n",
    "Ideally, the columns would be:\n",
    "\n",
    "* Gametime\n",
    "* Quarter\n",
    "* Team score\n",
    "* Oppoent score\n",
    "* Player (URL to player, given multiple players w/ same name can exist)\n",
    "* Shot attempt type (2, 3, fouled)\n",
    "* Shot attempt success (true/false)\n",
    "* Assisted by\n",
    "* Rebounded by\n",
    "* Rebound type (offensive, defensive)\n",
    "* Free throws attempted\n",
    "* Free throws made\n",
    "\n",
    "\n",
    "In the case of an and-1, shot attempt type/success will be 2/3 and true, and FTA/FTM will be populated\n",
    "Otherwise, FTA/FTM should only be populated where attempt type = fouled and success = false\n",
    "\n",
    "One note - we're ignoring technical free throws here since the end goal of this munging is to do some analysis\n",
    "on player shot frequency\n",
    "\n",
    "One last note - probably separately from this dataframe, would like to know when a player entered/exited the game to\n",
    "account for bench time. Will likely keep that separate"
   ]
  },
  {
   "cell_type": "code",
   "execution_count": 492,
   "metadata": {
    "collapsed": false
   },
   "outputs": [],
   "source": [
    "# First step - easy stuff - get out shot attept and player\n",
    "\n",
    "# Note that free throw rows are still here, we'll do some shift logic later to make those columns\n",
    "# We'll also apply shift logic to rebounds here, since that's a little easier than free throws\n",
    "\n",
    "df['player'] = df['action_html'].apply(lambda x: x.a['href'] if x.a and \\\n",
    "                        'makes' in x.text or 'misses' in x.text \\\n",
    "                        else x.select('a:nth-of-type(2)')[0]['href'] if x.select('a:nth-of-type(2)') \\\n",
    "                            and 'drawn by' in x.text.lower() and 'shooting foul' in x.text.lower() \\\n",
    "                        else np.nan)\n",
    "\n",
    "df['shot_attempt_type'] = df['action_html'].apply(lambda x: \\\n",
    "                          '2' if '2-pt' in x.text.lower() else \\\n",
    "                          '3' if '3-pt' in x.text.lower() else \\\n",
    "                          'free throw' if 'free throw' in x.text.lower() else \\\n",
    "                          'fouled' if 'shooting foul' in x.text.lower() and \\\n",
    "                                      'drawn by' in x.text.lower() else \\\n",
    "                            np.nan)\n",
    "\n",
    "df['shot_made'] = df['action_html'].apply(lambda x: \\\n",
    "                          True if 'makes' in x.text else \\\n",
    "                          False if 'misses' in x.text else \\\n",
    "                            np.nan)\n",
    "\n",
    "df['assisted_by'] = df['action_html'].apply(lambda x: \\\n",
    "                        x.select('a:nth-of-type(2)')[0]['href'] if x.select('a:nth-of-type(2)') \\\n",
    "                            and 'assist' in x.text.lower() \\\n",
    "                        else np.nan\n",
    "                        )\n",
    "\n",
    "df['rebounded_by'] = df['action_html'].apply(lambda x: \\\n",
    "                        x.a['href'] if x.a and 'rebound' in x.text.lower() \\\n",
    "                        else np.nan\n",
    "                        ).shift(-1)\n",
    "\n",
    "df['rebound_type'] = df['action_html'].apply(lambda x: \\\n",
    "                        'offensive' if 'offensive' in x.text.lower() and 'rebound' in x.text.lower() \\\n",
    "                        else 'defensive' if 'defensive' in x.text.lower() and 'rebound' in x.text.lower() \\\n",
    "                        else np.nan\n",
    "                        ).shift(-1)\n",
    "    \n",
    "    \n",
    "    \n",
    "def extract_shot_distance(text):\n",
    "    # Note - bball ref fouls don't track distance, so those will be left as NaN\n",
    "    r = re.compile('from (.*) ft').search(text)\n",
    "    r2 = 'at rim' in text\n",
    "    \n",
    "    if r2:\n",
    "        return 0\n",
    "    elif r:\n",
    "        try:\n",
    "            return int(r.group(1))\n",
    "        except:\n",
    "            return None\n",
    "    else:\n",
    "        return None\n",
    "    \n",
    "df['shot_distance'] = df['action_html'].apply(lambda x: extract_shot_distance(x.text) if \\\n",
    "                        'makes' in x.text or 'misses' in x.text \\\n",
    "                        else np.nan\n",
    "                        )\n"
   ]
  },
  {
   "cell_type": "code",
   "execution_count": 494,
   "metadata": {
    "collapsed": false
   },
   "outputs": [],
   "source": [
    "# We know that each player has to perform his own shot attempts, so we can group by the player and\n",
    "# by gametime since the game clock doens't change during FT attempts\n",
    "# We can then count free throw attempts in this window, makes/misses\n",
    "\n",
    "ft_made = df[ (df['shot_attempt_type'] == 'free throw') | \\\n",
    "   (df['shot_attempt_type'] == 'fouled')].groupby(\\\n",
    "    ['player', 'gametime']).apply(lambda x: \\\n",
    "    x[(x['shot_attempt_type'] == 'free throw')]['shot_made'].value_counts()).reset_index()\n",
    "\n",
    "# NOTE - there is definitely a better way to do this. Added shot attempt type column to do an easy merge\n",
    "# to only fouled shots. Also, given how the groupby.value_counts() returns data, i did a ftm and ft missed \n",
    "# column back to the data frame, and then calculated fta. Again, almost definitely a better way to do it, this was\n",
    "# the first thought i had that was easy to implement\n",
    "\n",
    "ft_made['shot_attempt_type'] = 'fouled'\n",
    "ft_made.columns = ['player', 'gametime', 'shot_made', 'num', 'shot_attempt_type']\n",
    "\n",
    "df['ftm'] = df.merge(ft_made[ft_made['shot_made'] == True][['player', 'gametime', 'num', 'shot_attempt_type']], on=['player', 'gametime', 'shot_attempt_type']   , how='left')['num']\n",
    "df['ft missed'] = df.merge(ft_made[ft_made['shot_made'] == False][['player', 'gametime', 'num', 'shot_attempt_type']], on=['player', 'gametime', 'shot_attempt_type']   , how='left')['num']\n",
    "df.loc[ (pd.isnull(df['ft missed'])) & (df.shot_attempt_type == 'fouled'), 'ft missed'] = 0\n",
    "df.loc[ (pd.isnull(df['ftm'])) & (df.shot_attempt_type == 'fouled'), 'ftm'] = 0\n",
    "df['fta'] = df['ftm'] + df['ft missed']"
   ]
  },
  {
   "cell_type": "code",
   "execution_count": 444,
   "metadata": {
    "collapsed": false
   },
   "outputs": [],
   "source": [
    "\n",
    "\n"
   ]
  },
  {
   "cell_type": "code",
   "execution_count": null,
   "metadata": {
    "collapsed": false
   },
   "outputs": [],
   "source": []
  },
  {
   "cell_type": "code",
   "execution_count": 495,
   "metadata": {
    "collapsed": false
   },
   "outputs": [],
   "source": [
    "# Last step is team score and opponent score - need to switch based on home/away action\n",
    "df['team_score'] = df[ df['is_home'] ]['home_score']\n",
    "df['team_score'].fillna(df[ df['is_home'] == False]['away_score'], inplace=True)\n",
    "\n",
    "df['opponent_score'] = df[ df['is_home'] == False ]['home_score']\n",
    "df['opponent_score'].fillna(df[ df['is_home']]['away_score'], inplace=True)"
   ]
  },
  {
   "cell_type": "code",
   "execution_count": null,
   "metadata": {
    "collapsed": false
   },
   "outputs": [],
   "source": [
    "\n"
   ]
  },
  {
   "cell_type": "code",
   "execution_count": 496,
   "metadata": {
    "collapsed": false
   },
   "outputs": [],
   "source": [
    "game_shots = df[(pd.isnull(df.shot_attempt_type) == False) & (df.shot_attempt_type != 'free throw') \\\n",
    "  ][['gametime', 'quarter', 'is_home', 'team_score', 'opponent_score', 'player', 'shot_attempt_type', 'shot_distance', 'shot_made', \\\n",
    "    'assisted_by', 'rebounded_by', 'rebound_type', 'ftm', 'fta']].copy()"
   ]
  },
  {
   "cell_type": "code",
   "execution_count": 498,
   "metadata": {
    "collapsed": false
   },
   "outputs": [
    {
     "data": {
      "text/html": [
       "<div>\n",
       "<table border=\"1\" class=\"dataframe\">\n",
       "  <thead>\n",
       "    <tr style=\"text-align: right;\">\n",
       "      <th></th>\n",
       "      <th>gametime</th>\n",
       "      <th>quarter</th>\n",
       "      <th>is_home</th>\n",
       "      <th>team_score</th>\n",
       "      <th>opponent_score</th>\n",
       "      <th>player</th>\n",
       "      <th>shot_attempt_type</th>\n",
       "      <th>shot_distance</th>\n",
       "      <th>shot_made</th>\n",
       "      <th>assisted_by</th>\n",
       "      <th>rebounded_by</th>\n",
       "      <th>rebound_type</th>\n",
       "      <th>ftm</th>\n",
       "      <th>fta</th>\n",
       "    </tr>\n",
       "  </thead>\n",
       "  <tbody>\n",
       "    <tr>\n",
       "      <th>0</th>\n",
       "      <td>00:00:16</td>\n",
       "      <td>1</td>\n",
       "      <td>False</td>\n",
       "      <td>0</td>\n",
       "      <td>2</td>\n",
       "      <td>/players/t/thompkl01.html</td>\n",
       "      <td>2</td>\n",
       "      <td>23</td>\n",
       "      <td>True</td>\n",
       "      <td>/players/b/barneha02.html</td>\n",
       "      <td>NaN</td>\n",
       "      <td>NaN</td>\n",
       "      <td>NaN</td>\n",
       "      <td>NaN</td>\n",
       "    </tr>\n",
       "    <tr>\n",
       "      <th>1</th>\n",
       "      <td>00:00:38</td>\n",
       "      <td>1</td>\n",
       "      <td>True</td>\n",
       "      <td>2</td>\n",
       "      <td>0</td>\n",
       "      <td>/players/j/jacksre01.html</td>\n",
       "      <td>2</td>\n",
       "      <td>20</td>\n",
       "      <td>False</td>\n",
       "      <td>NaN</td>\n",
       "      <td>/players/g/greendr01.html</td>\n",
       "      <td>defensive</td>\n",
       "      <td>NaN</td>\n",
       "      <td>NaN</td>\n",
       "    </tr>\n",
       "    <tr>\n",
       "      <th>3</th>\n",
       "      <td>00:00:46</td>\n",
       "      <td>1</td>\n",
       "      <td>False</td>\n",
       "      <td>0</td>\n",
       "      <td>5</td>\n",
       "      <td>/players/c/curryst01.html</td>\n",
       "      <td>3</td>\n",
       "      <td>24</td>\n",
       "      <td>True</td>\n",
       "      <td>/players/g/greendr01.html</td>\n",
       "      <td>NaN</td>\n",
       "      <td>NaN</td>\n",
       "      <td>NaN</td>\n",
       "      <td>NaN</td>\n",
       "    </tr>\n",
       "    <tr>\n",
       "      <th>4</th>\n",
       "      <td>00:01:08</td>\n",
       "      <td>1</td>\n",
       "      <td>True</td>\n",
       "      <td>5</td>\n",
       "      <td>0</td>\n",
       "      <td>/players/i/ibakase01.html</td>\n",
       "      <td>2</td>\n",
       "      <td>14</td>\n",
       "      <td>False</td>\n",
       "      <td>NaN</td>\n",
       "      <td>/players/t/thompkl01.html</td>\n",
       "      <td>defensive</td>\n",
       "      <td>NaN</td>\n",
       "      <td>NaN</td>\n",
       "    </tr>\n",
       "    <tr>\n",
       "      <th>6</th>\n",
       "      <td>00:01:13</td>\n",
       "      <td>1</td>\n",
       "      <td>False</td>\n",
       "      <td>0</td>\n",
       "      <td>5</td>\n",
       "      <td>/players/g/greendr01.html</td>\n",
       "      <td>2</td>\n",
       "      <td>2</td>\n",
       "      <td>False</td>\n",
       "      <td>NaN</td>\n",
       "      <td>/players/i/ibakase01.html</td>\n",
       "      <td>defensive</td>\n",
       "      <td>NaN</td>\n",
       "      <td>NaN</td>\n",
       "    </tr>\n",
       "    <tr>\n",
       "      <th>8</th>\n",
       "      <td>00:01:26</td>\n",
       "      <td>1</td>\n",
       "      <td>True</td>\n",
       "      <td>5</td>\n",
       "      <td>0</td>\n",
       "      <td>/players/i/ibakase01.html</td>\n",
       "      <td>2</td>\n",
       "      <td>2</td>\n",
       "      <td>False</td>\n",
       "      <td>NaN</td>\n",
       "      <td>/players/j/jacksre01.html</td>\n",
       "      <td>offensive</td>\n",
       "      <td>NaN</td>\n",
       "      <td>NaN</td>\n",
       "    </tr>\n",
       "    <tr>\n",
       "      <th>10</th>\n",
       "      <td>00:01:29</td>\n",
       "      <td>1</td>\n",
       "      <td>True</td>\n",
       "      <td>5</td>\n",
       "      <td>2</td>\n",
       "      <td>/players/j/jacksre01.html</td>\n",
       "      <td>2</td>\n",
       "      <td>6</td>\n",
       "      <td>True</td>\n",
       "      <td>NaN</td>\n",
       "      <td>NaN</td>\n",
       "      <td>NaN</td>\n",
       "      <td>NaN</td>\n",
       "      <td>NaN</td>\n",
       "    </tr>\n",
       "    <tr>\n",
       "      <th>11</th>\n",
       "      <td>00:01:44</td>\n",
       "      <td>1</td>\n",
       "      <td>False</td>\n",
       "      <td>2</td>\n",
       "      <td>5</td>\n",
       "      <td>/players/t/thompkl01.html</td>\n",
       "      <td>2</td>\n",
       "      <td>13</td>\n",
       "      <td>False</td>\n",
       "      <td>NaN</td>\n",
       "      <td>NaN</td>\n",
       "      <td>offensive</td>\n",
       "      <td>NaN</td>\n",
       "      <td>NaN</td>\n",
       "    </tr>\n",
       "    <tr>\n",
       "      <th>14</th>\n",
       "      <td>00:01:51</td>\n",
       "      <td>1</td>\n",
       "      <td>False</td>\n",
       "      <td>2</td>\n",
       "      <td>5</td>\n",
       "      <td>/players/b/bogutan01.html</td>\n",
       "      <td>2</td>\n",
       "      <td>3</td>\n",
       "      <td>False</td>\n",
       "      <td>NaN</td>\n",
       "      <td>/players/j/jacksre01.html</td>\n",
       "      <td>defensive</td>\n",
       "      <td>NaN</td>\n",
       "      <td>NaN</td>\n",
       "    </tr>\n",
       "    <tr>\n",
       "      <th>16</th>\n",
       "      <td>00:02:00</td>\n",
       "      <td>1</td>\n",
       "      <td>True</td>\n",
       "      <td>5</td>\n",
       "      <td>2</td>\n",
       "      <td>/players/i/ibakase01.html</td>\n",
       "      <td>3</td>\n",
       "      <td>24</td>\n",
       "      <td>False</td>\n",
       "      <td>NaN</td>\n",
       "      <td>/players/b/barneha02.html</td>\n",
       "      <td>defensive</td>\n",
       "      <td>NaN</td>\n",
       "      <td>NaN</td>\n",
       "    </tr>\n",
       "    <tr>\n",
       "      <th>18</th>\n",
       "      <td>00:02:11</td>\n",
       "      <td>1</td>\n",
       "      <td>False</td>\n",
       "      <td>2</td>\n",
       "      <td>7</td>\n",
       "      <td>/players/c/curryst01.html</td>\n",
       "      <td>2</td>\n",
       "      <td>20</td>\n",
       "      <td>True</td>\n",
       "      <td>/players/b/bogutan01.html</td>\n",
       "      <td>NaN</td>\n",
       "      <td>NaN</td>\n",
       "      <td>NaN</td>\n",
       "      <td>NaN</td>\n",
       "    </tr>\n",
       "    <tr>\n",
       "      <th>19</th>\n",
       "      <td>00:02:39</td>\n",
       "      <td>1</td>\n",
       "      <td>True</td>\n",
       "      <td>7</td>\n",
       "      <td>4</td>\n",
       "      <td>/players/a/adamsst01.html</td>\n",
       "      <td>2</td>\n",
       "      <td>6</td>\n",
       "      <td>True</td>\n",
       "      <td>/players/j/jacksre01.html</td>\n",
       "      <td>NaN</td>\n",
       "      <td>NaN</td>\n",
       "      <td>NaN</td>\n",
       "      <td>NaN</td>\n",
       "    </tr>\n",
       "    <tr>\n",
       "      <th>22</th>\n",
       "      <td>00:02:55</td>\n",
       "      <td>1</td>\n",
       "      <td>False</td>\n",
       "      <td>4</td>\n",
       "      <td>10</td>\n",
       "      <td>/players/b/bogutan01.html</td>\n",
       "      <td>2</td>\n",
       "      <td>0</td>\n",
       "      <td>True</td>\n",
       "      <td>/players/c/curryst01.html</td>\n",
       "      <td>NaN</td>\n",
       "      <td>NaN</td>\n",
       "      <td>NaN</td>\n",
       "      <td>NaN</td>\n",
       "    </tr>\n",
       "    <tr>\n",
       "      <th>23</th>\n",
       "      <td>00:03:09</td>\n",
       "      <td>1</td>\n",
       "      <td>True</td>\n",
       "      <td>10</td>\n",
       "      <td>4</td>\n",
       "      <td>/players/j/jacksre01.html</td>\n",
       "      <td>2</td>\n",
       "      <td>1</td>\n",
       "      <td>False</td>\n",
       "      <td>NaN</td>\n",
       "      <td>/players/c/curryst01.html</td>\n",
       "      <td>defensive</td>\n",
       "      <td>NaN</td>\n",
       "      <td>NaN</td>\n",
       "    </tr>\n",
       "    <tr>\n",
       "      <th>25</th>\n",
       "      <td>00:03:20</td>\n",
       "      <td>1</td>\n",
       "      <td>False</td>\n",
       "      <td>4</td>\n",
       "      <td>10</td>\n",
       "      <td>/players/c/curryst01.html</td>\n",
       "      <td>3</td>\n",
       "      <td>25</td>\n",
       "      <td>False</td>\n",
       "      <td>NaN</td>\n",
       "      <td>NaN</td>\n",
       "      <td>defensive</td>\n",
       "      <td>NaN</td>\n",
       "      <td>NaN</td>\n",
       "    </tr>\n",
       "  </tbody>\n",
       "</table>\n",
       "</div>"
      ],
      "text/plain": [
       "    gametime  quarter is_home team_score opponent_score  \\\n",
       "0   00:00:16        1   False          0              2   \n",
       "1   00:00:38        1    True          2              0   \n",
       "3   00:00:46        1   False          0              5   \n",
       "4   00:01:08        1    True          5              0   \n",
       "6   00:01:13        1   False          0              5   \n",
       "8   00:01:26        1    True          5              0   \n",
       "10  00:01:29        1    True          5              2   \n",
       "11  00:01:44        1   False          2              5   \n",
       "14  00:01:51        1   False          2              5   \n",
       "16  00:02:00        1    True          5              2   \n",
       "18  00:02:11        1   False          2              7   \n",
       "19  00:02:39        1    True          7              4   \n",
       "22  00:02:55        1   False          4             10   \n",
       "23  00:03:09        1    True         10              4   \n",
       "25  00:03:20        1   False          4             10   \n",
       "\n",
       "                       player shot_attempt_type  shot_distance shot_made  \\\n",
       "0   /players/t/thompkl01.html                 2             23      True   \n",
       "1   /players/j/jacksre01.html                 2             20     False   \n",
       "3   /players/c/curryst01.html                 3             24      True   \n",
       "4   /players/i/ibakase01.html                 2             14     False   \n",
       "6   /players/g/greendr01.html                 2              2     False   \n",
       "8   /players/i/ibakase01.html                 2              2     False   \n",
       "10  /players/j/jacksre01.html                 2              6      True   \n",
       "11  /players/t/thompkl01.html                 2             13     False   \n",
       "14  /players/b/bogutan01.html                 2              3     False   \n",
       "16  /players/i/ibakase01.html                 3             24     False   \n",
       "18  /players/c/curryst01.html                 2             20      True   \n",
       "19  /players/a/adamsst01.html                 2              6      True   \n",
       "22  /players/b/bogutan01.html                 2              0      True   \n",
       "23  /players/j/jacksre01.html                 2              1     False   \n",
       "25  /players/c/curryst01.html                 3             25     False   \n",
       "\n",
       "                  assisted_by               rebounded_by rebound_type  ftm  \\\n",
       "0   /players/b/barneha02.html                        NaN          NaN  NaN   \n",
       "1                         NaN  /players/g/greendr01.html    defensive  NaN   \n",
       "3   /players/g/greendr01.html                        NaN          NaN  NaN   \n",
       "4                         NaN  /players/t/thompkl01.html    defensive  NaN   \n",
       "6                         NaN  /players/i/ibakase01.html    defensive  NaN   \n",
       "8                         NaN  /players/j/jacksre01.html    offensive  NaN   \n",
       "10                        NaN                        NaN          NaN  NaN   \n",
       "11                        NaN                        NaN    offensive  NaN   \n",
       "14                        NaN  /players/j/jacksre01.html    defensive  NaN   \n",
       "16                        NaN  /players/b/barneha02.html    defensive  NaN   \n",
       "18  /players/b/bogutan01.html                        NaN          NaN  NaN   \n",
       "19  /players/j/jacksre01.html                        NaN          NaN  NaN   \n",
       "22  /players/c/curryst01.html                        NaN          NaN  NaN   \n",
       "23                        NaN  /players/c/curryst01.html    defensive  NaN   \n",
       "25                        NaN                        NaN    defensive  NaN   \n",
       "\n",
       "    fta  \n",
       "0   NaN  \n",
       "1   NaN  \n",
       "3   NaN  \n",
       "4   NaN  \n",
       "6   NaN  \n",
       "8   NaN  \n",
       "10  NaN  \n",
       "11  NaN  \n",
       "14  NaN  \n",
       "16  NaN  \n",
       "18  NaN  \n",
       "19  NaN  \n",
       "22  NaN  \n",
       "23  NaN  \n",
       "25  NaN  "
      ]
     },
     "execution_count": 498,
     "metadata": {},
     "output_type": "execute_result"
    }
   ],
   "source": [
    "game_shots[:15]"
   ]
  },
  {
   "cell_type": "markdown",
   "metadata": {
    "collapsed": false
   },
   "source": [
    "<h2> Verification </h2>\n",
    "\n",
    "Check a few stats here against box score stats. Even better - turn that into an automated method/test - download/parse box score stats and calculate/compare!\n",
    "\n",
    "Stats to check for a given player:\n",
    "* Shots attempted\n",
    "* Shots made\n",
    "* FTA\n",
    "* FTM\n",
    "* Rebounds\n",
    "* Assists"
   ]
  },
  {
   "cell_type": "code",
   "execution_count": 499,
   "metadata": {
    "collapsed": false
   },
   "outputs": [],
   "source": [
    "# To be continued"
   ]
  },
  {
   "cell_type": "code",
   "execution_count": null,
   "metadata": {
    "collapsed": false
   },
   "outputs": [],
   "source": []
  },
  {
   "cell_type": "code",
   "execution_count": 195,
   "metadata": {
    "collapsed": false
   },
   "outputs": [],
   "source": []
  },
  {
   "cell_type": "code",
   "execution_count": 196,
   "metadata": {
    "collapsed": false
   },
   "outputs": [],
   "source": []
  },
  {
   "cell_type": "code",
   "execution_count": 197,
   "metadata": {
    "collapsed": false
   },
   "outputs": [],
   "source": []
  },
  {
   "cell_type": "code",
   "execution_count": null,
   "metadata": {
    "collapsed": true
   },
   "outputs": [],
   "source": []
  },
  {
   "cell_type": "code",
   "execution_count": 199,
   "metadata": {
    "collapsed": false
   },
   "outputs": [],
   "source": [
    "\n"
   ]
  },
  {
   "cell_type": "code",
   "execution_count": null,
   "metadata": {
    "collapsed": false,
    "scrolled": true
   },
   "outputs": [],
   "source": []
  },
  {
   "cell_type": "code",
   "execution_count": null,
   "metadata": {
    "collapsed": false
   },
   "outputs": [],
   "source": []
  },
  {
   "cell_type": "code",
   "execution_count": null,
   "metadata": {
    "collapsed": false
   },
   "outputs": [],
   "source": []
  },
  {
   "cell_type": "code",
   "execution_count": null,
   "metadata": {
    "collapsed": false
   },
   "outputs": [],
   "source": []
  },
  {
   "cell_type": "code",
   "execution_count": null,
   "metadata": {
    "collapsed": false
   },
   "outputs": [],
   "source": []
  },
  {
   "cell_type": "code",
   "execution_count": null,
   "metadata": {
    "collapsed": false
   },
   "outputs": [],
   "source": []
  },
  {
   "cell_type": "code",
   "execution_count": null,
   "metadata": {
    "collapsed": false
   },
   "outputs": [],
   "source": []
  },
  {
   "cell_type": "code",
   "execution_count": null,
   "metadata": {
    "collapsed": false
   },
   "outputs": [],
   "source": []
  },
  {
   "cell_type": "code",
   "execution_count": null,
   "metadata": {
    "collapsed": false
   },
   "outputs": [],
   "source": []
  },
  {
   "cell_type": "code",
   "execution_count": null,
   "metadata": {
    "collapsed": false
   },
   "outputs": [],
   "source": []
  },
  {
   "cell_type": "code",
   "execution_count": null,
   "metadata": {
    "collapsed": false
   },
   "outputs": [],
   "source": []
  },
  {
   "cell_type": "code",
   "execution_count": null,
   "metadata": {
    "collapsed": false
   },
   "outputs": [],
   "source": []
  },
  {
   "cell_type": "code",
   "execution_count": null,
   "metadata": {
    "collapsed": false
   },
   "outputs": [],
   "source": []
  },
  {
   "cell_type": "code",
   "execution_count": null,
   "metadata": {
    "collapsed": true
   },
   "outputs": [],
   "source": []
  },
  {
   "cell_type": "code",
   "execution_count": null,
   "metadata": {
    "collapsed": false
   },
   "outputs": [],
   "source": []
  },
  {
   "cell_type": "code",
   "execution_count": null,
   "metadata": {
    "collapsed": false
   },
   "outputs": [],
   "source": []
  },
  {
   "cell_type": "code",
   "execution_count": null,
   "metadata": {
    "collapsed": true
   },
   "outputs": [],
   "source": []
  },
  {
   "cell_type": "code",
   "execution_count": null,
   "metadata": {
    "collapsed": true
   },
   "outputs": [],
   "source": []
  }
 ],
 "metadata": {
  "kernelspec": {
   "display_name": "Python 2",
   "language": "python",
   "name": "python2"
  },
  "language_info": {
   "codemirror_mode": {
    "name": "ipython",
    "version": 2
   },
   "file_extension": ".py",
   "mimetype": "text/x-python",
   "name": "python",
   "nbconvert_exporter": "python",
   "pygments_lexer": "ipython2",
   "version": "2.7.6"
  }
 },
 "nbformat": 4,
 "nbformat_minor": 0
}
